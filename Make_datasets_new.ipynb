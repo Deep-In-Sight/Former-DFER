{
 "cells": [
  {
   "cell_type": "code",
   "execution_count": 1,
   "id": "11a9af9c",
   "metadata": {},
   "outputs": [],
   "source": [
    "from glob import glob\n",
    "import random\n",
    "import os"
   ]
  },
  {
   "cell_type": "code",
   "execution_count": 2,
   "id": "df47fafe",
   "metadata": {},
   "outputs": [
    {
     "data": {
      "text/plain": [
       "['/media/di/data/lee/nia/Former-DFER/nia/data/Laptop_clip_list00.txt',\n",
       " '/media/di/data/lee/nia/Former-DFER/nia/data/Monitor_clip_list00.txt',\n",
       " '/media/di/data/lee/nia/Former-DFER/nia/data/VehicleLCD_clip_list00.txt',\n",
       " '/media/di/data/lee/nia/Former-DFER/nia/data/Smartphone_clip_list00.txt',\n",
       " '/media/di/data/lee/nia/Former-DFER/nia/data/Tablet_clip_list00.txt']"
      ]
     },
     "execution_count": 2,
     "metadata": {},
     "output_type": "execute_result"
    }
   ],
   "source": [
    "devices = ['Laptop','Monitor','VehicleLCD',\n",
    "          'Smartphone','Tablet'\n",
    "          ]\n",
    "anno_lists = []\n",
    "for device in devices:\n",
    "    anno_list = glob(f\"/media/di/data/lee/nia/Former-DFER/nia/data/{device}_*list*.txt\")\n",
    "    for i in anno_list:\n",
    "        anno_lists.append(i)\n",
    "\n",
    "anno_lists"
   ]
  },
  {
   "cell_type": "code",
   "execution_count": 3,
   "id": "fd10366c",
   "metadata": {},
   "outputs": [
    {
     "data": {
      "text/plain": [
       "4002"
      ]
     },
     "execution_count": 3,
     "metadata": {},
     "output_type": "execute_result"
    }
   ],
   "source": [
    "all_lines=[]\n",
    "for fn in anno_lists:\n",
    "    with open(fn,\"r\") as f:\n",
    "        all_lines.extend(f.readlines())\n",
    "\n",
    "len(all_lines)"
   ]
  },
  {
   "cell_type": "code",
   "execution_count": 11,
   "id": "0bd13d58",
   "metadata": {},
   "outputs": [],
   "source": [
    "random.shuffle(all_lines)"
   ]
  },
  {
   "cell_type": "code",
   "execution_count": 12,
   "id": "f341d0e1",
   "metadata": {},
   "outputs": [],
   "source": [
    "fracs = (0.7,0.2) # train, test. the rest is for validation"
   ]
  },
  {
   "cell_type": "code",
   "execution_count": 13,
   "id": "e728aa49",
   "metadata": {},
   "outputs": [],
   "source": [
    "set_size = 9000\n",
    "set_size = min([len(all_lines), set_size])"
   ]
  },
  {
   "cell_type": "code",
   "execution_count": 14,
   "id": "a7c7f41f",
   "metadata": {},
   "outputs": [],
   "source": [
    "def split(list_a, chunk_size):\n",
    "    for i in range(0, len(list_a), chunk_size):\n",
    "        yield list_a[i:i + chunk_size]\n",
    "\n",
    "def write_file(lines, fn):\n",
    "    with open(fn, \"w\") as f:\n",
    "        for ll in lines:\n",
    "            f.write(ll)"
   ]
  },
  {
   "cell_type": "code",
   "execution_count": 15,
   "id": "0ea1262f",
   "metadata": {},
   "outputs": [],
   "source": [
    "for i,chunk in enumerate(split(all_lines, set_size)):\n",
    "    nelement = len(chunk)\n",
    "    itrain = int(nelement*fracs[0])\n",
    "    train = chunk[:itrain]\n",
    "    itest  = int(nelement*sum(fracs))\n",
    "    test  = chunk[itrain:itest]\n",
    "    valid = chunk[itest:]\n",
    "    os.makedirs(\"/media/di/data/lee/nia/Former-DFER/nia/data/annotation/\",exist_ok=True)\n",
    "    write_file(train, f\"/media/di/data/lee/nia/Former-DFER/nia/data/annotation/set_{i}_train.txt\")\n",
    "    write_file(test, f\"/media/di/data/lee/nia/Former-DFER/nia/data//annotation/set_{i}_test.txt\")\n",
    "    write_file(valid, f\"/media/di/data/lee/nia/Former-DFER/nia/data//annotation/set_{i}_valid.txt\")"
   ]
  }
 ],
 "metadata": {
  "kernelspec": {
   "display_name": "Python 3 (ipykernel)",
   "language": "python",
   "name": "python3"
  },
  "language_info": {
   "codemirror_mode": {
    "name": "ipython",
    "version": 3
   },
   "file_extension": ".py",
   "mimetype": "text/x-python",
   "name": "python",
   "nbconvert_exporter": "python",
   "pygments_lexer": "ipython3",
   "version": "3.9.13"
  }
 },
 "nbformat": 4,
 "nbformat_minor": 5
}
