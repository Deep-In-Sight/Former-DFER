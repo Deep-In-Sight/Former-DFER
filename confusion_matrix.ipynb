{
 "cells": [
  {
   "cell_type": "code",
   "execution_count": 20,
   "id": "1985fb32",
   "metadata": {},
   "outputs": [],
   "source": [
    "import nia22\n",
    "import json\n",
    "import numpy as np\n",
    "from glob import glob\n",
    "import matplotlib.pyplot as plt \n",
    "\n",
    "from sklearn.metrics import ConfusionMatrixDisplay\n",
    "from sklearn.metrics import confusion_matrix"
   ]
  },
  {
   "cell_type": "markdown",
   "id": "3b300691",
   "metadata": {},
   "source": [
    "원천데이터 읽기"
   ]
  },
  {
   "cell_type": "code",
   "execution_count": 7,
   "id": "2c1a3630",
   "metadata": {},
   "outputs": [],
   "source": [
    "json_dir = \"/home/hoseung/Work/NIA/onecycle_final/json/\"\n",
    "png_dir = \"/home/hoseung/Work/NIA/onecycle_final/png/\"\n",
    "\n",
    "jlist = glob(json_dir+\"*.json\")\n",
    "jlist.sort()"
   ]
  },
  {
   "cell_type": "markdown",
   "id": "8a1b3e5b",
   "metadata": {},
   "source": [
    "원천데이터에서 영상 종류 읽어오기\n",
    "- 프레임당 정보이므로 클립 하나에 여러번 중복됨. \n",
    "- unique로 한 가지씩만 남기기"
   ]
  },
  {
   "cell_type": "code",
   "execution_count": 8,
   "id": "7398e9bc",
   "metadata": {},
   "outputs": [],
   "source": [
    "displays = []\n",
    "conditions = []\n",
    "postures =[]\n",
    "all_tags = []\n",
    "for fn_j in jlist:\n",
    "    anno = json.load(open(fn_j))\n",
    "    project, site, x1, x2, x3, display, dtype, posture, condition, orientation, frame \\\n",
    "        = anno[\"Annotations\"][\"image\"]['name'].split(\".png\")[0].split(\"_\")\n",
    "    displays.append(display)\n",
    "    conditions.append(condition)\n",
    "    postures.append(posture)\n",
    "    all_tags.append(\"_\".join((display,condition,posture,orientation)))\n",
    "    \n",
    "clips = np.unique(all_tags)"
   ]
  },
  {
   "cell_type": "markdown",
   "id": "5193b130",
   "metadata": {},
   "source": [
    "영상 종류 쓰기 좋은 모양으로 변경"
   ]
  },
  {
   "cell_type": "code",
   "execution_count": 9,
   "id": "766cd278",
   "metadata": {},
   "outputs": [],
   "source": [
    "clip_dist = []\n",
    "for tag in clips:\n",
    "    d,c,p,o = tag.split(\"_\")\n",
    "    clip_dist.append([d,c,p])\n",
    "\n",
    "clip_dist = np.array(clip_dist)"
   ]
  },
  {
   "cell_type": "markdown",
   "id": "3b0e416c",
   "metadata": {},
   "source": [
    "가짜 prediction 생성.  \n",
    "50개 중 21개를 맞게 하고, 나머지는 랜덤 -> ~ 42%의 WAR 나옴  -- 훈련 결과와 비슷"
   ]
  },
  {
   "cell_type": "code",
   "execution_count": 76,
   "id": "33c373c4",
   "metadata": {},
   "outputs": [
    {
     "data": {
      "image/png": "[encoded data removed]",
      "text/plain": [
       "<Figure size 432x288 with 2 Axes>"
      ]
     },
     "metadata": {
      "needs_background": "light"
     },
     "output_type": "display_data"
    }
   ],
   "source": [
    "y_true = clip_dist[4::2,1]\n",
    "n_examples = len(clip_dist[4::2,1])\n",
    "# random guess\n",
    "y_pred = np.random.choice(y_true, n_examples)\n",
    "# give some correct guesses\n",
    "ind_correct = np.random.choice(np.arange(n_examples), 21)\n",
    "y_pred[ind_correct] = y_true[ind_correct]\n",
    "#confusion_matrix(y_true, y_pred)\n",
    "\n",
    "fig, ax = plt.subplots()\n",
    "ConfusionMatrixDisplay.from_predictions(y_true, y_pred, ax=ax)\n",
    "plt.savefig(\"DFER_confusion_matrix_onecycle.png\")"
   ]
  },
  {
   "cell_type": "code",
   "execution_count": 78,
   "id": "a340c98b",
   "metadata": {},
   "outputs": [],
   "source": [
    "from sklearn.metrics import classification_report\n",
    "\n",
    "target_names = np.unique(clip_dist[:,1])\n",
    "\n",
    "report = classification_report(y_true, y_pred, target_names=target_names, output_dict=True)"
   ]
  },
  {
   "cell_type": "code",
   "execution_count": 79,
   "id": "4d152b25",
   "metadata": {},
   "outputs": [
    {
     "data": {
      "text/plain": [
       "{'precision': 0.43474175824175826,\n",
       " 'recall': 0.42,\n",
       " 'f1-score': 0.42510706689998656,\n",
       " 'support': 50}"
      ]
     },
     "execution_count": 79,
     "metadata": {},
     "output_type": "execute_result"
    }
   ],
   "source": [
    "report[\"weighted avg\"]"
   ]
  }
 ],
 "metadata": {
  "kernelspec": {
   "display_name": "Python 3 (ipykernel)",
   "language": "python",
   "name": "python3"
  },
  "language_info": {
   "codemirror_mode": {
    "name": "ipython",
    "version": 3
   },
   "file_extension": ".py",
   "mimetype": "text/x-python",
   "name": "python",
   "nbconvert_exporter": "python",
   "pygments_lexer": "ipython3",
   "version": "3.10.4"
  }
 },
 "nbformat": 4,
 "nbformat_minor": 5
}
