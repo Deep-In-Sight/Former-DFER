{
 "cells": [
  {
   "cell_type": "code",
   "execution_count": 21,
   "id": "11a9af9c",
   "metadata": {},
   "outputs": [],
   "source": [
    "from glob import glob\n",
    "import random\n",
    "import os"
   ]
  },
  {
   "cell_type": "code",
   "execution_count": 3,
   "id": "df47fafe",
   "metadata": {},
   "outputs": [
    {
     "data": {
      "text/plain": [
       "['/media/di/data2/nia/Former-DFER/nia/data/Smartphone_clip_list00.txt',\n",
       " '/media/di/data2/nia/Former-DFER/nia/data/Laptop_clip_list00.txt',\n",
       " '/media/di/data2/nia/Former-DFER/nia/data/Tablet_clip_list00.txt',\n",
       " '/media/di/data2/nia/Former-DFER/nia/data/Monitor_clip_list00.txt',\n",
       " '/media/di/data2/nia/Former-DFER/nia/data/VehicleLCD_clip_list00.txt']"
      ]
     },
     "execution_count": 3,
     "metadata": {},
     "output_type": "execute_result"
    }
   ],
   "source": [
    "anno_lists = glob(\"/media/di/data2/nia/Former-DFER/nia/data/*list*.txt\")\n",
    "\n",
    "anno_lists"
   ]
  },
  {
   "cell_type": "code",
   "execution_count": 4,
   "id": "fd10366c",
   "metadata": {},
   "outputs": [
    {
     "data": {
      "text/plain": [
       "452"
      ]
     },
     "execution_count": 4,
     "metadata": {},
     "output_type": "execute_result"
    }
   ],
   "source": [
    "all_lines=[]\n",
    "for fn in anno_lists:\n",
    "    with open(fn,\"r\") as f:\n",
    "        all_lines.extend(f.readlines())\n",
    "\n",
    "len(all_lines)"
   ]
  },
  {
   "cell_type": "code",
   "execution_count": 5,
   "id": "0bd13d58",
   "metadata": {},
   "outputs": [],
   "source": [
    "random.shuffle(all_lines)"
   ]
  },
  {
   "cell_type": "code",
   "execution_count": 14,
   "id": "f341d0e1",
   "metadata": {},
   "outputs": [],
   "source": [
    "fracs = (0.7,0.2) # train, test. the rest is for validation"
   ]
  },
  {
   "cell_type": "code",
   "execution_count": 15,
   "id": "e728aa49",
   "metadata": {},
   "outputs": [],
   "source": [
    "set_size = 9000\n",
    "set_size = min([len(all_lines), set_size])"
   ]
  },
  {
   "cell_type": "code",
   "execution_count": 16,
   "id": "a7c7f41f",
   "metadata": {},
   "outputs": [],
   "source": [
    "def split(list_a, chunk_size):\n",
    "    for i in range(0, len(list_a), chunk_size):\n",
    "        yield list_a[i:i + chunk_size]\n",
    "\n",
    "def write_file(lines, fn):\n",
    "    with open(fn, \"w\") as f:\n",
    "        for ll in lines:\n",
    "            f.write(ll)"
   ]
  },
  {
   "cell_type": "code",
   "execution_count": 24,
   "id": "0ea1262f",
   "metadata": {},
   "outputs": [
    {
     "ename": "FileNotFoundError",
     "evalue": "[Errno 2] No such file or directory: '/media/di/data2/nia/Former-DFER/nia/data/annotation/set_0_train.txt'",
     "output_type": "error",
     "traceback": [
      "\u001b[0;31m---------------------------------------------------------------------------\u001b[0m",
      "\u001b[0;31mFileNotFoundError\u001b[0m                         Traceback (most recent call last)",
      "Input \u001b[0;32mIn [24]\u001b[0m, in \u001b[0;36m<cell line: 1>\u001b[0;34m()\u001b[0m\n\u001b[1;32m      7\u001b[0m valid \u001b[38;5;241m=\u001b[39m chunk[itest:]\n\u001b[1;32m      8\u001b[0m os\u001b[38;5;241m.\u001b[39mmakedirs(\u001b[38;5;124m\"\u001b[39m\u001b[38;5;124mmedia/di/data2/nia/Former-DFER/nia/data/annotation/\u001b[39m\u001b[38;5;124m\"\u001b[39m,exist_ok\u001b[38;5;241m=\u001b[39m\u001b[38;5;28;01mTrue\u001b[39;00m)\n\u001b[0;32m----> 9\u001b[0m \u001b[43mwrite_file\u001b[49m\u001b[43m(\u001b[49m\u001b[43mtrain\u001b[49m\u001b[43m,\u001b[49m\u001b[43m \u001b[49m\u001b[38;5;124;43mf\u001b[39;49m\u001b[38;5;124;43m\"\u001b[39;49m\u001b[38;5;124;43m/media/di/data2/nia/Former-DFER/nia/data/annotation/set_\u001b[39;49m\u001b[38;5;132;43;01m{\u001b[39;49;00m\u001b[43mi\u001b[49m\u001b[38;5;132;43;01m}\u001b[39;49;00m\u001b[38;5;124;43m_train.txt\u001b[39;49m\u001b[38;5;124;43m\"\u001b[39;49m\u001b[43m)\u001b[49m\n\u001b[1;32m     10\u001b[0m write_file(test, \u001b[38;5;124mf\u001b[39m\u001b[38;5;124m\"\u001b[39m\u001b[38;5;124m/media/di/data2/nia/Former-DFER/nia/data//annotation/set_\u001b[39m\u001b[38;5;132;01m{\u001b[39;00mi\u001b[38;5;132;01m}\u001b[39;00m\u001b[38;5;124m_test.txt\u001b[39m\u001b[38;5;124m\"\u001b[39m)\n\u001b[1;32m     11\u001b[0m write_file(valid, \u001b[38;5;124mf\u001b[39m\u001b[38;5;124m\"\u001b[39m\u001b[38;5;124m/media/di/data2/nia/Former-DFER/nia/data//annotation/set_\u001b[39m\u001b[38;5;132;01m{\u001b[39;00mi\u001b[38;5;132;01m}\u001b[39;00m\u001b[38;5;124m_valid.txt\u001b[39m\u001b[38;5;124m\"\u001b[39m)\n",
      "Input \u001b[0;32mIn [16]\u001b[0m, in \u001b[0;36mwrite_file\u001b[0;34m(lines, fn)\u001b[0m\n\u001b[1;32m      5\u001b[0m \u001b[38;5;28;01mdef\u001b[39;00m \u001b[38;5;21mwrite_file\u001b[39m(lines, fn):\n\u001b[0;32m----> 6\u001b[0m     \u001b[38;5;28;01mwith\u001b[39;00m \u001b[38;5;28;43mopen\u001b[39;49m\u001b[43m(\u001b[49m\u001b[43mfn\u001b[49m\u001b[43m,\u001b[49m\u001b[43m \u001b[49m\u001b[38;5;124;43m\"\u001b[39;49m\u001b[38;5;124;43mw\u001b[39;49m\u001b[38;5;124;43m\"\u001b[39;49m\u001b[43m)\u001b[49m \u001b[38;5;28;01mas\u001b[39;00m f:\n\u001b[1;32m      7\u001b[0m         \u001b[38;5;28;01mfor\u001b[39;00m ll \u001b[38;5;129;01min\u001b[39;00m lines:\n\u001b[1;32m      8\u001b[0m             f\u001b[38;5;241m.\u001b[39mwrite(ll)\n",
      "\u001b[0;31mFileNotFoundError\u001b[0m: [Errno 2] No such file or directory: '/media/di/data2/nia/Former-DFER/nia/data/annotation/set_0_train.txt'"
     ]
    }
   ],
   "source": [
    "for i,chunk in enumerate(split(all_lines, set_size)):\n",
    "    nelement = len(chunk)\n",
    "    itrain = int(nelement*fracs[0])\n",
    "    train = chunk[:itrain]\n",
    "    itest  = int(nelement*sum(fracs))\n",
    "    test  = chunk[itrain:itest]\n",
    "    valid = chunk[itest:]\n",
    "    os.makedirs(\"media/di/data2/nia/Former-DFER/nia/data/annotation/\",exist_ok=True)\n",
    "    write_file(train, f\"/media/di/data2/nia/Former-DFER/nia/data/annotation/set_{i}_train.txt\")\n",
    "    write_file(test, f\"/media/di/data2/nia/Former-DFER/nia/data//annotation/set_{i}_test.txt\")\n",
    "    write_file(valid, f\"/media/di/data2/nia/Former-DFER/nia/data//annotation/set_{i}_valid.txt\")"
   ]
  },
  {
   "cell_type": "code",
   "execution_count": 9,
   "id": "8e7e98d5",
   "metadata": {},
   "outputs": [
    {
     "data": {
      "text/plain": [
       "5033.0"
      ]
     },
     "execution_count": 9,
     "metadata": {},
     "output_type": "execute_result"
    }
   ],
   "source": [
    "3595*1.4"
   ]
  },
  {
   "cell_type": "code",
   "execution_count": 10,
   "id": "040f55fd",
   "metadata": {},
   "outputs": [
    {
     "data": {
      "text/plain": [
       "1437.8"
      ]
     },
     "execution_count": 10,
     "metadata": {},
     "output_type": "execute_result"
    }
   ],
   "source": [
    "1027*1.4"
   ]
  },
  {
   "cell_type": "code",
   "execution_count": 11,
   "id": "8e50789a",
   "metadata": {},
   "outputs": [
    {
     "data": {
      "text/plain": [
       "719.5999999999999"
      ]
     },
     "execution_count": 11,
     "metadata": {},
     "output_type": "execute_result"
    }
   ],
   "source": [
    "514*1.4"
   ]
  },
  {
   "cell_type": "code",
   "execution_count": 18,
   "id": "29fa1ae8",
   "metadata": {},
   "outputs": [
    {
     "data": {
      "text/plain": [
       "46"
      ]
     },
     "execution_count": 18,
     "metadata": {},
     "output_type": "execute_result"
    }
   ],
   "source": [
    "len(valid)"
   ]
  },
  {
   "cell_type": "code",
   "execution_count": 22,
   "id": "2a0be144",
   "metadata": {},
   "outputs": [
    {
     "ename": "FileNotFoundError",
     "evalue": "[Errno 2] No such file or directory: '/media/di/data2/nia/Former-DFER/nia/data/annotation/set_0_train.txt'",
     "output_type": "error",
     "traceback": [
      "\u001b[0;31m---------------------------------------------------------------------------\u001b[0m",
      "\u001b[0;31mFileNotFoundError\u001b[0m                         Traceback (most recent call last)",
      "Input \u001b[0;32mIn [22]\u001b[0m, in \u001b[0;36m<cell line: 2>\u001b[0;34m()\u001b[0m\n\u001b[1;32m      1\u001b[0m os\u001b[38;5;241m.\u001b[39mmakedirs(\u001b[38;5;124m\"\u001b[39m\u001b[38;5;124mmedia/di/data2/nia/Former-DFER/nia/data/annotation/\u001b[39m\u001b[38;5;124m\"\u001b[39m)\n\u001b[0;32m----> 2\u001b[0m \u001b[43mwrite_file\u001b[49m\u001b[43m(\u001b[49m\u001b[43mtrain\u001b[49m\u001b[43m,\u001b[49m\u001b[43m \u001b[49m\u001b[38;5;124;43mf\u001b[39;49m\u001b[38;5;124;43m\"\u001b[39;49m\u001b[38;5;124;43m/media/di/data2/nia/Former-DFER/nia/data/annotation/set_\u001b[39;49m\u001b[38;5;132;43;01m{\u001b[39;49;00m\u001b[43mi\u001b[49m\u001b[38;5;132;43;01m}\u001b[39;49;00m\u001b[38;5;124;43m_train.txt\u001b[39;49m\u001b[38;5;124;43m\"\u001b[39;49m\u001b[43m)\u001b[49m\n\u001b[1;32m      3\u001b[0m write_file(test, \u001b[38;5;124mf\u001b[39m\u001b[38;5;124m\"\u001b[39m\u001b[38;5;124m/media/di/data2/nia/Former-DFER/nia/data//annotation/set_\u001b[39m\u001b[38;5;132;01m{\u001b[39;00mi\u001b[38;5;132;01m}\u001b[39;00m\u001b[38;5;124m_test.txt\u001b[39m\u001b[38;5;124m\"\u001b[39m)\n\u001b[1;32m      4\u001b[0m write_file(valid, \u001b[38;5;124mf\u001b[39m\u001b[38;5;124m\"\u001b[39m\u001b[38;5;124m/media/di/data2/nia/Former-DFER/nia/data//annotation/set_\u001b[39m\u001b[38;5;132;01m{\u001b[39;00mi\u001b[38;5;132;01m}\u001b[39;00m\u001b[38;5;124m_valid.txt\u001b[39m\u001b[38;5;124m\"\u001b[39m)\n",
      "Input \u001b[0;32mIn [16]\u001b[0m, in \u001b[0;36mwrite_file\u001b[0;34m(lines, fn)\u001b[0m\n\u001b[1;32m      5\u001b[0m \u001b[38;5;28;01mdef\u001b[39;00m \u001b[38;5;21mwrite_file\u001b[39m(lines, fn):\n\u001b[0;32m----> 6\u001b[0m     \u001b[38;5;28;01mwith\u001b[39;00m \u001b[38;5;28;43mopen\u001b[39;49m\u001b[43m(\u001b[49m\u001b[43mfn\u001b[49m\u001b[43m,\u001b[49m\u001b[43m \u001b[49m\u001b[38;5;124;43m\"\u001b[39;49m\u001b[38;5;124;43mw\u001b[39;49m\u001b[38;5;124;43m\"\u001b[39;49m\u001b[43m)\u001b[49m \u001b[38;5;28;01mas\u001b[39;00m f:\n\u001b[1;32m      7\u001b[0m         \u001b[38;5;28;01mfor\u001b[39;00m ll \u001b[38;5;129;01min\u001b[39;00m lines:\n\u001b[1;32m      8\u001b[0m             f\u001b[38;5;241m.\u001b[39mwrite(ll)\n",
      "\u001b[0;31mFileNotFoundError\u001b[0m: [Errno 2] No such file or directory: '/media/di/data2/nia/Former-DFER/nia/data/annotation/set_0_train.txt'"
     ]
    }
   ],
   "source": [
    "    "
   ]
  },
  {
   "cell_type": "code",
   "execution_count": null,
   "id": "04fe999c",
   "metadata": {},
   "outputs": [],
   "source": []
  },
  {
   "cell_type": "code",
   "execution_count": null,
   "id": "6ea52ee2",
   "metadata": {},
   "outputs": [],
   "source": []
  }
 ],
 "metadata": {
  "kernelspec": {
   "display_name": "Python 3 (ipykernel)",
   "language": "python",
   "name": "python3"
  },
  "language_info": {
   "codemirror_mode": {
    "name": "ipython",
    "version": 3
   },
   "file_extension": ".py",
   "mimetype": "text/x-python",
   "name": "python",
   "nbconvert_exporter": "python",
   "pygments_lexer": "ipython3",
   "version": "3.10.4"
  }
 },
 "nbformat": 4,
 "nbformat_minor": 5
}
